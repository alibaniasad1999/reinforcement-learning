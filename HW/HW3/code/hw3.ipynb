{
 "cells": [
  {
   "cell_type": "code",
   "execution_count": 1,
   "metadata": {},
   "outputs": [],
   "source": [
    "import numpy as np\n",
    "import matplotlib.pyplot as plt"
   ]
  },
  {
   "cell_type": "code",
   "execution_count": 3,
   "metadata": {},
   "outputs": [
    {
     "data": {
      "image/png": "[encoded data removed]",
      "text/plain": [
       "<Figure size 640x480 with 1 Axes>"
      ]
     },
     "metadata": {},
     "output_type": "display_data"
    }
   ],
   "source": [
    "# solving car racing problem using monte carlo method reinforcement learning\n",
    "# the car racing problem is a 5x5 grid, with the car starting at the bottom\n",
    "# left corner, and the goal at the top right corner. The car can move up, down, left, or right \n",
    "\n",
    "\n",
    "# initialize the grid\n",
    "grid = np.zeros((5,5))\n",
    "# set the goal\n",
    "grid[0,4] = 1\n",
    "# set the starting position\n",
    "grid[4,0] = 2\n",
    "# set walls\n",
    "grid[1,1] = -1\n",
    "grid[1,2] = -1\n",
    "grid[2,1] = -1\n",
    "grid[2,2] = -1\n",
    "grid[3,2] = -1\n",
    "grid[3,3] = -1\n",
    "grid[3,4] = -1\n",
    "grid[4,3] = -1\n",
    "\n",
    "# plot the grid\n",
    "plt.imshow(grid, cmap='gray')\n",
    "plt.show()"
   ]
  },
  {
   "cell_type": "code",
   "execution_count": null,
   "metadata": {},
   "outputs": [],
   "source": [
    "class race():\n",
    "    def __init__(self, grid):\n",
    "        self.grid = grid\n",
    "        self.state = np.array([4,0])\n",
    "        # three action 0, 1 -1 add to velocity of car in x and y direction\n",
    "        self.action = np.array([0,0])\n",
    "        self.reward = 0\n",
    "        self.done = False\n",
    "        self.gamma = 0.9\n",
    "        self.alpha = 0.1\n",
    "        self.epsilon = 0.1\n",
    "        self.Q = np.zeros((5,5,3,3))\n",
    "        self.V = np.zeros((5,5))\n",
    "        self.policy = np.ones((5,5, 3, 3))/3\n",
    "        self.episode = []\n",
    "        self.episode_reward = []\n",
    "        self.episode_length = []\n",
    "        self.episode_V = []\n",
    "        self.episode_Q = []\n",
    "        self.episode_policy = []\n",
    "        self.episode_state = []\n",
    "        self.episode_action = []\n",
    "        self.episode_reward = []\n",
    "        self.episode_done = []\n",
    "        self.episode_gamma = []\n",
    "        self.episode_alpha = []\n",
    "        self.episode_epsilon = []\n",
    "\n",
    "    def reset(self):\n",
    "        self.state = np.array([4,0])\n",
    "        self.action = np.array([0,0])\n",
    "        self.reward = 0\n",
    "        self.done = False\n",
    "        self.episode = []\n",
    "        self.episode_reward = []\n",
    "        self.episode_length = []\n",
    "        self.episode_V = []\n",
    "        self.episode_Q = []\n",
    "        self.episode_policy = []\n",
    "        self.episode_state = []\n",
    "        self.episode_action = []\n",
    "        self.episode_reward = []\n",
    "        self.episode_done = []\n",
    "        self.episode_gamma = []\n",
    "        self.episode_alpha = []\n",
    "        self.episode_epsilon = []\n",
    "\n",
    "        "
   ]
  }
 ],
 "metadata": {
  "kernelspec": {
   "display_name": ".env",
   "language": "python",
   "name": "python3"
  },
  "language_info": {
   "codemirror_mode": {
    "name": "ipython",
    "version": 3
   },
   "file_extension": ".py",
   "mimetype": "text/x-python",
   "name": "python",
   "nbconvert_exporter": "python",
   "pygments_lexer": "ipython3",
   "version": "3.11.3"
  }
 },
 "nbformat": 4,
 "nbformat_minor": 2
}
