{
 "cells": [
  {
   "cell_type": "code",
   "execution_count": 1,
   "id": "initial_id",
   "metadata": {
    "collapsed": true,
    "ExecuteTime": {
     "end_time": "2023-12-02T14:55:18.328703Z",
     "start_time": "2023-12-02T14:55:17.506836Z"
    }
   },
   "outputs": [],
   "source": [
    "# solving racetrack using reinforcement learning\n",
    "import numpy as np\n",
    "import matplotlib.pyplot as plt"
   ]
  },
  {
   "cell_type": "code",
   "execution_count": 4,
   "outputs": [],
   "source": [
    "# define the racetrack\n",
    "# 0: empty\n",
    "# 1: obstacle\n",
    "# 2: start\n",
    "# 3: finish\n",
    "racetrack_map = np.array([\n",
    "    [1, 1, 1, 1, 1, 1, 1, 1, 1, 1, 1, 1, 1, 1, 1, 0, 0, 0, 0, 0, 0, 0, 0, 0, 0, 0, 0, 0, 0, 0, 0, 3],\n",
    "    [1, 1, 1, 1, 1, 1, 1, 1, 1, 1, 1, 1, 1, 0, 0, 0, 0, 0, 0, 0, 0, 0, 0, 0, 0, 0, 0, 0, 0, 0, 0, 3],\n",
    "    [1, 1, 1, 1, 1, 1, 1, 1, 1, 1, 1, 1, 0, 0, 0, 0, 0, 0, 0, 0, 0, 0, 0, 0, 0, 0, 0, 0, 0, 0, 0, 3],\n",
    "    [1, 1, 1, 1, 1, 1, 1, 1, 1, 1, 1, 0, 0, 0, 0, 0, 0, 0, 0, 0, 0, 0, 0, 0, 0, 0, 0, 0, 0, 0, 0, 3],\n",
    "    [1, 1, 1, 1, 1, 1, 1, 1, 1, 1, 1, 0, 0, 0, 0, 0, 0, 0, 0, 0, 0, 0, 0, 0, 0, 0, 0, 0, 0, 0, 0, 3],\n",
    "    [1, 1, 1, 1, 1, 1, 1, 1, 1, 1, 1, 0, 0, 0, 0, 0, 0, 0, 0, 0, 0, 0, 0, 0, 0, 0, 0, 0, 0, 0, 0, 3],\n",
    "    [1, 1, 1, 1, 1, 1, 1, 1, 1, 1, 1, 0, 0, 0, 0, 0, 0, 0, 0, 0, 0, 0, 0, 0, 0, 0, 0, 0, 0, 0, 0, 3],\n",
    "    [1, 1, 1, 1, 1, 1, 1, 1, 1, 1, 1, 1, 0, 0, 0, 0, 0, 0, 0, 0, 0, 0, 0, 0, 0, 0, 0, 0, 0, 0, 0, 3],\n",
    "    [1, 1, 1, 1, 1, 1, 1, 1, 1, 1, 1, 1, 1, 0, 0, 0, 0, 0, 0, 0, 0, 0, 0, 0, 0, 0, 0, 0, 0, 0, 0, 3],\n",
    "    [1, 1, 1, 1, 1, 1, 1, 1, 1, 1, 1, 1, 1, 1, 0, 0, 0, 0, 0, 0, 0, 0, 0, 0, 0, 0, 0, 0, 0, 0, 1, 1],\n",
    "    [1, 1, 1, 1, 1, 1, 1, 1, 1, 1, 1, 1, 1, 1, 0, 0, 0, 0, 0, 0, 0, 0, 0, 0, 0, 0, 0, 1, 1, 1, 1, 1],\n",
    "    [1, 1, 1, 1, 1, 1, 1, 1, 1, 1, 1, 1, 1, 1, 0, 0, 0, 0, 0, 0, 0, 0, 0, 0, 0, 0, 1, 1, 1, 1, 1, 1],\n",
    "    [1, 1, 1, 1, 1, 1, 1, 1, 1, 1, 1, 1, 1, 1, 0, 0, 0, 0, 0, 0, 0, 0, 0, 0, 1, 1, 1, 1, 1, 1, 1, 1],\n",
    "    [1, 1, 1, 1, 1, 1, 1, 1, 1, 1, 1, 1, 1, 1, 0, 0, 0, 0, 0, 0, 0, 0, 0, 1, 1, 1, 1, 1, 1, 1, 1, 1],\n",
    "    [1, 1, 1, 1, 1, 1, 1, 1, 1, 1, 1, 1, 1, 0, 0, 0, 0, 0, 0, 0, 0, 0, 0, 1, 1, 1, 1, 1, 1, 1, 1, 1],\n",
    "    [1, 1, 1, 1, 1, 1, 1, 1, 1, 1, 1, 1, 0, 0, 0, 0, 0, 0, 0, 0, 0, 0, 0, 1, 1, 1, 1, 1, 1, 1, 1, 1],\n",
    "    [1, 1, 1, 1, 1, 1, 1, 1, 1, 1, 1, 0, 0, 0, 0, 0, 0, 0, 0, 0, 0, 0, 0, 1, 1, 1, 1, 1, 1, 1, 1, 1],\n",
    "    [1, 1, 1, 1, 1, 1, 1, 1, 1, 1, 0, 0, 0, 0, 0, 0, 0, 0, 0, 0, 0, 0, 0, 1, 1, 1, 1, 1, 1, 1, 1, 1],\n",
    "    [1, 1, 1, 1, 1, 1, 1, 1, 1, 0, 0, 0, 0, 0, 0, 0, 0, 0, 0, 0, 0, 0, 0, 1, 1, 1, 1, 1, 1, 1, 1, 1],\n",
    "    [1, 1, 1, 1, 1, 1, 1, 1, 0, 0, 0, 0, 0, 0, 0, 0, 0, 0, 0, 0, 0, 0, 0, 1, 1, 1, 1, 1, 1, 1, 1, 1],\n",
    "    [1, 1, 1, 1, 1, 1, 1, 0, 0, 0, 0, 0, 0, 0, 0, 0, 0, 0, 0, 0, 0, 0, 0, 1, 1, 1, 1, 1, 1, 1, 1, 1],\n",
    "    [1, 1, 1, 1, 1, 1, 0, 0, 0, 0, 0, 0, 0, 0, 0, 0, 0, 0, 0, 0, 0, 0, 0, 1, 1, 1, 1, 1, 1, 1, 1, 1],\n",
    "    [1, 1, 1, 1, 1, 0, 0, 0, 0, 0, 0, 0, 0, 0, 0, 0, 0, 0, 0, 0, 0, 0, 0, 1, 1, 1, 1, 1, 1, 1, 1, 1],\n",
    "    [1, 1, 1, 1, 0, 0, 0, 0, 0, 0, 0, 0, 0, 0, 0, 0, 0, 0, 0, 0, 0, 0, 0, 1, 1, 1, 1, 1, 1, 1, 1, 1],\n",
    "    [1, 1, 1, 0, 0, 0, 0, 0, 0, 0, 0, 0, 0, 0, 0, 0, 0, 0, 0, 0, 0, 0, 0, 1, 1, 1, 1, 1, 1, 1, 1, 1],\n",
    "    [1, 1, 0, 0, 0, 0, 0, 0, 0, 0, 0, 0, 0, 0, 0, 0, 0, 0, 0, 0, 0, 0, 0, 1, 1, 1, 1, 1, 1, 1, 1, 1],\n",
    "    [1, 0, 0, 0, 0, 0, 0, 0, 0, 0, 0, 0, 0, 0, 0, 0, 0, 0, 0, 0, 0, 0, 0, 1, 1, 1, 1, 1, 1, 1, 1, 1],\n",
    "    [0, 0, 0, 0, 0, 0, 0, 0, 0, 0, 0, 0, 0, 0, 0, 0, 0, 0, 0, 0, 0, 0, 0, 1, 1, 1, 1, 1, 1, 1, 1, 1],\n",
    "    [0, 0, 0, 0, 0, 0, 0, 0, 0, 0, 0, 0, 0, 0, 0, 0, 0, 0, 0, 0, 0, 0, 0, 1, 1, 1, 1, 1, 1, 1, 1, 1],\n",
    "    [2, 2, 2, 2, 2, 2, 2, 2, 2, 2, 2, 2, 2, 2, 2, 2, 2, 2, 2, 2, 2, 2, 2, 1, 1, 1, 1, 1, 1, 1, 1, 1]\n",
    "  ], dtype=np.int32)"
   ],
   "metadata": {
    "collapsed": false,
    "ExecuteTime": {
     "end_time": "2023-12-02T14:56:05.708020Z",
     "start_time": "2023-12-02T14:56:05.668087Z"
    }
   },
   "id": "a965349e07c8016d"
  },
  {
   "cell_type": "code",
   "execution_count": 5,
   "outputs": [
    {
     "data": {
      "text/plain": "<Figure size 640x480 with 1 Axes>",
      "image/png": "[encoded data removed]"
     },
     "metadata": {},
     "output_type": "display_data"
    }
   ],
   "source": [
    "# plot the racetrack\n",
    "plt.imshow(racetrack_map)\n",
    "plt.show()"
   ],
   "metadata": {
    "collapsed": false,
    "ExecuteTime": {
     "end_time": "2023-12-02T14:56:06.572958Z",
     "start_time": "2023-12-02T14:56:06.389260Z"
    }
   },
   "id": "d30ceeda1ee94e16"
  },
  {
   "cell_type": "code",
   "execution_count": 39,
   "outputs": [
    {
     "name": "stdout",
     "output_type": "stream",
     "text": [
      "[array([29,  7]), 0, 0]\n",
      "[-1  0]\n"
     ]
    }
   ],
   "source": [
    "start_array = np.argwhere(racetrack_map == 2)\n",
    "print([start_array[np.random.randint(0, len(start_array))],0,0])\n",
    "action_space = np.array([\n",
    "            [-1, -1], [-1, 0], [-1, 1],\n",
    "            [0, -1], [0, 0], [0, 1],\n",
    "            [1, -1], [1, 0], [1, 1]\n",
    "        ])\n",
    "print(action_space[1])\n",
    "# np.random.randint(0, 9, size=(32, 32, 5, 9))"
   ],
   "metadata": {
    "collapsed": false,
    "ExecuteTime": {
     "end_time": "2023-12-02T15:41:19.220256Z",
     "start_time": "2023-12-02T15:41:19.136610Z"
    }
   },
   "id": "cc10a0ef1e53e576"
  },
  {
   "cell_type": "code",
   "execution_count": 41,
   "outputs": [],
   "source": [
    "# define racetrack class\n",
    "class Racetrack:\n",
    "    def __init__(self, racetrack_map):\n",
    "        self.racetrack_map = racetrack_map\n",
    "        self.height = racetrack_map.shape[0]\n",
    "        self.width = racetrack_map.shape[1]\n",
    "        self.start_array = np.argwhere(racetrack_map == 2)\n",
    "        self.finish_array = np.argwhere(racetrack_map == 3)\n",
    "        # start position is random zero velocity\n",
    "        self.start = [self.start_array[np.random.randint(0, len(self.start_array))][0], self.start_array[np.random.randint(0, len(self.start_array))][1], 0, 0]\n",
    "        # finish position is fixed\n",
    "        self.position = self.start\n",
    "        self.action_space = np.array([\n",
    "            [-1, -1], [-1, 0], [-1, 1],\n",
    "            [0, -1], [0, 0], [0, 1],\n",
    "            [1, -1], [1, 0], [1, 1]\n",
    "        ])\n",
    "        self.reward = 0\n",
    "        self.visited_cells = []\n",
    "        # random policy x y dx dy 32 * 32 * 5 * 9\n",
    "        self.policy = np.random.randint(0, 9, size=(self.height, self.width, 5, 9))\n",
    "        # Q table x y dx dy 32 * 32 * 5 * 9 * num of actions\n",
    "        self.Q = np.zeros((self.height, self.width, 5, 9, len(self.action_space)))\n",
    "        self.is_done = False\n",
    "        self.epsilon = 0.1\n",
    "        self.gamma = 0.99\n",
    "        \n",
    "        \n",
    "        \n",
    "        \n",
    "    def reset(self):\n",
    "        self.position = [self.start_array[np.random.randint(0, len(self.start_array))][0], self.start_array[np.random.randint(0, len(self.start_array))][1], 0, 0]\n",
    "        self.is_done = False\n",
    "        \n",
    "    def get_action(self, state):\n",
    "        # soft policy greedy\n",
    "        if np.random.random() > self.epsilon:\n",
    "            return self.action_space[self.policy[state[0], state[1], state[2], state[3]]]\n",
    "        else:\n",
    "            return self.action_space[np.random.randint(0, len(self.action_space))] \n",
    "        \n",
    "    def step(self, action):\n",
    "        # update position\n",
    "        self.position[0] += self.position[2]\n",
    "        self.position[1] += self.position[3]\n",
    "        self.position[2] += action[0]\n",
    "        self.position[3] += action[1]\n",
    "        # check if the car is out of the racetrack\n",
    "        if self.position[0] < 0:\n",
    "            self.position[0] = 0\n",
    "            self.position[2] = 0\n",
    "        elif self.position[0] >= self.height:\n",
    "            self.position[0] = self.height - 1\n",
    "            self.position[2] = 0\n",
    "        elif self.position[1] < 0:\n",
    "            self.position[3] = 0\n",
    "            self.position[1] = 0\n",
    "        elif self.position[1] >= self.width:\n",
    "            self.position[3] = 0\n",
    "            self.position[1] = self.width - 1\n",
    "        # check if the car hits the obstacle\n",
    "        if self.racetrack_map[self.position[0], self.position[1]] == 1:\n",
    "            self.reset()\n",
    "            self.reward = -5\n",
    "        # check if the car reaches the finish line\n",
    "        elif self.racetrack_map[self.position[0], self.position[1]] == 3:\n",
    "            self.reward = 0\n",
    "            self.is_done = True\n",
    "            \n",
    "        else:\n",
    "            self.reward = -1\n",
    "            \n",
    "        return self.position, self.reward\n",
    "    \n",
    "    def render(self):\n",
    "        racetrack_map = self.racetrack_map.copy()\n",
    "        racetrack_map[self.position[0], self.position[1]] = 4\n",
    "        plt.imshow(racetrack_map)\n",
    "        plt.show()\n",
    "        \n",
    "    def get_state(self):\n",
    "        return self.position\n",
    "    \n",
    "    def get_reward(self):\n",
    "        return self.reward\n",
    "    \n",
    "    # update Q\n",
    "    def update_Q(self, state, action, reward, next_state, alpha, gamma):\n",
    "        # get the index of the action\n",
    "        action_index = np.argwhere(self.action_space == action)[0][0]\n",
    "        # get the index of the next state\n",
    "        next_state_index = np.argwhere(self.action_space == next_state)[0][0]\n",
    "        # update Q\n",
    "        self.Q[state[0], state[1], state[2], state[3], action_index] += alpha * (reward + gamma * np.max(self.Q[next_state[0], next_state[1], next_state[2], next_state[3]]) - self.Q[state[0], state[1], state[2], state[3], action_index])\n",
    "        \n",
    "    # update policy\n",
    "    def update_policy(self, state):\n",
    "        # get the index of the state\n",
    "        state_index = np.argwhere(self.action_space == state)[0][0]\n",
    "        # update policy\n",
    "        self.policy[state[0], state[1], state[2], state[3]] = np.argmax(self.Q[state[0], state[1], state[2], state[3]]) if np.random.random() > self.epsilon else np.random.randint(0, len(self.action_space))\n",
    "        \n",
    "    # run the car mont carlo\n",
    "    def run_mont_carlo(self, alpha, gamma):\n",
    "        # reset the car\n",
    "        self.reset()\n",
    "        # save rewards and states\n",
    "        rewards = []\n",
    "        states = []\n",
    "        # run the car until it reaches the finish line\n",
    "        while not self.is_done:\n",
    "            # get the current state\n",
    "            state = self.get_state()\n",
    "            # get the current action\n",
    "            action = self.get_action(state)\n",
    "            # save the current state\n",
    "            states.append(state)\n",
    "            # save the current reward\n",
    "            rewards.append(self.get_reward())\n",
    "            # update the car\n",
    "            self.step(action)\n",
    "        # calculate the return\n",
    "        G = 0\n",
    "        # save the return\n",
    "        returns = []\n",
    "        # calculate the return for each state\n",
    "        for i in range(len(states) - 1, -1, -1):\n",
    "            G = gamma * G + rewards[i]\n",
    "            returns.append(G)\n",
    "            \n",
    "        # reverse the returns\n",
    "        returns.reverse()\n",
    "        # update Q and policy\n",
    "        for i in range(len(states)):\n",
    "            self.update_Q(states[i], self.action_space[self.policy[states[i][0], states[i][1], states[i][2], states[i][3]]], returns[i], states[i + 1], alpha, gamma)\n",
    "            self.update_policy(states[i])\n",
    "        \n",
    "        self.epsilon *= self.gamma\n",
    "        \n",
    "        \n",
    "        \n",
    "        \n",
    "#\n",
    "        \n",
    "        \n",
    "        \n",
    "    \n",
    "        \n",
    "        "
   ],
   "metadata": {
    "collapsed": false,
    "ExecuteTime": {
     "end_time": "2023-12-02T15:42:24.999041Z",
     "start_time": "2023-12-02T15:42:24.944655Z"
    }
   },
   "id": "7f976da5831d525f"
  },
  {
   "cell_type": "code",
   "execution_count": 42,
   "outputs": [],
   "source": [
    "# main code \n",
    "racetrack = Racetrack(racetrack_map)"
   ],
   "metadata": {
    "collapsed": false,
    "ExecuteTime": {
     "end_time": "2023-12-02T15:42:25.676820Z",
     "start_time": "2023-12-02T15:42:25.664575Z"
    }
   },
   "id": "25292faf9242e845"
  },
  {
   "cell_type": "code",
   "execution_count": 43,
   "outputs": [
    {
     "ename": "ValueError",
     "evalue": "operands could not be broadcast together with shapes (9,2) (4,) ",
     "output_type": "error",
     "traceback": [
      "\u001B[0;31m---------------------------------------------------------------------------\u001B[0m",
      "\u001B[0;31mValueError\u001B[0m                                Traceback (most recent call last)",
      "Cell \u001B[0;32mIn[43], line 3\u001B[0m\n\u001B[1;32m      1\u001B[0m \u001B[38;5;66;03m# run the car\u001B[39;00m\n\u001B[1;32m      2\u001B[0m \u001B[38;5;28;01mfor\u001B[39;00m i \u001B[38;5;129;01min\u001B[39;00m \u001B[38;5;28mrange\u001B[39m(\u001B[38;5;241m1000\u001B[39m):\n\u001B[0;32m----> 3\u001B[0m     \u001B[43mracetrack\u001B[49m\u001B[38;5;241;43m.\u001B[39;49m\u001B[43mrun_mont_carlo\u001B[49m\u001B[43m(\u001B[49m\u001B[38;5;241;43m0.1\u001B[39;49m\u001B[43m,\u001B[49m\u001B[43m \u001B[49m\u001B[38;5;241;43m0.99\u001B[39;49m\u001B[43m)\u001B[49m\n\u001B[1;32m      4\u001B[0m     \u001B[38;5;28;01mif\u001B[39;00m i \u001B[38;5;241m%\u001B[39m \u001B[38;5;241m100\u001B[39m \u001B[38;5;241m==\u001B[39m \u001B[38;5;241m0\u001B[39m:\n\u001B[1;32m      5\u001B[0m         \u001B[38;5;28mprint\u001B[39m(i)\n",
      "Cell \u001B[0;32mIn[41], line 135\u001B[0m, in \u001B[0;36mRacetrack.run_mont_carlo\u001B[0;34m(self, alpha, gamma)\u001B[0m\n\u001B[1;32m    133\u001B[0m \u001B[38;5;66;03m# update Q and policy\u001B[39;00m\n\u001B[1;32m    134\u001B[0m \u001B[38;5;28;01mfor\u001B[39;00m i \u001B[38;5;129;01min\u001B[39;00m \u001B[38;5;28mrange\u001B[39m(\u001B[38;5;28mlen\u001B[39m(states)):\n\u001B[0;32m--> 135\u001B[0m     \u001B[38;5;28;43mself\u001B[39;49m\u001B[38;5;241;43m.\u001B[39;49m\u001B[43mupdate_Q\u001B[49m\u001B[43m(\u001B[49m\u001B[43mstates\u001B[49m\u001B[43m[\u001B[49m\u001B[43mi\u001B[49m\u001B[43m]\u001B[49m\u001B[43m,\u001B[49m\u001B[43m \u001B[49m\u001B[38;5;28;43mself\u001B[39;49m\u001B[38;5;241;43m.\u001B[39;49m\u001B[43maction_space\u001B[49m\u001B[43m[\u001B[49m\u001B[38;5;28;43mself\u001B[39;49m\u001B[38;5;241;43m.\u001B[39;49m\u001B[43mpolicy\u001B[49m\u001B[43m[\u001B[49m\u001B[43mstates\u001B[49m\u001B[43m[\u001B[49m\u001B[43mi\u001B[49m\u001B[43m]\u001B[49m\u001B[43m[\u001B[49m\u001B[38;5;241;43m0\u001B[39;49m\u001B[43m]\u001B[49m\u001B[43m,\u001B[49m\u001B[43m \u001B[49m\u001B[43mstates\u001B[49m\u001B[43m[\u001B[49m\u001B[43mi\u001B[49m\u001B[43m]\u001B[49m\u001B[43m[\u001B[49m\u001B[38;5;241;43m1\u001B[39;49m\u001B[43m]\u001B[49m\u001B[43m,\u001B[49m\u001B[43m \u001B[49m\u001B[43mstates\u001B[49m\u001B[43m[\u001B[49m\u001B[43mi\u001B[49m\u001B[43m]\u001B[49m\u001B[43m[\u001B[49m\u001B[38;5;241;43m2\u001B[39;49m\u001B[43m]\u001B[49m\u001B[43m,\u001B[49m\u001B[43m \u001B[49m\u001B[43mstates\u001B[49m\u001B[43m[\u001B[49m\u001B[43mi\u001B[49m\u001B[43m]\u001B[49m\u001B[43m[\u001B[49m\u001B[38;5;241;43m3\u001B[39;49m\u001B[43m]\u001B[49m\u001B[43m]\u001B[49m\u001B[43m]\u001B[49m\u001B[43m,\u001B[49m\u001B[43m \u001B[49m\u001B[43mreturns\u001B[49m\u001B[43m[\u001B[49m\u001B[43mi\u001B[49m\u001B[43m]\u001B[49m\u001B[43m,\u001B[49m\u001B[43m \u001B[49m\u001B[43mstates\u001B[49m\u001B[43m[\u001B[49m\u001B[43mi\u001B[49m\u001B[43m \u001B[49m\u001B[38;5;241;43m+\u001B[39;49m\u001B[43m \u001B[49m\u001B[38;5;241;43m1\u001B[39;49m\u001B[43m]\u001B[49m\u001B[43m,\u001B[49m\u001B[43m \u001B[49m\u001B[43malpha\u001B[49m\u001B[43m,\u001B[49m\u001B[43m \u001B[49m\u001B[43mgamma\u001B[49m\u001B[43m)\u001B[49m\n\u001B[1;32m    136\u001B[0m     \u001B[38;5;28mself\u001B[39m\u001B[38;5;241m.\u001B[39mupdate_policy(states[i])\n\u001B[1;32m    138\u001B[0m \u001B[38;5;28mself\u001B[39m\u001B[38;5;241m.\u001B[39mepsilon \u001B[38;5;241m*\u001B[39m\u001B[38;5;241m=\u001B[39m \u001B[38;5;28mself\u001B[39m\u001B[38;5;241m.\u001B[39mgamma\n",
      "Cell \u001B[0;32mIn[41], line 92\u001B[0m, in \u001B[0;36mRacetrack.update_Q\u001B[0;34m(self, state, action, reward, next_state, alpha, gamma)\u001B[0m\n\u001B[1;32m     90\u001B[0m action_index \u001B[38;5;241m=\u001B[39m np\u001B[38;5;241m.\u001B[39margwhere(\u001B[38;5;28mself\u001B[39m\u001B[38;5;241m.\u001B[39maction_space \u001B[38;5;241m==\u001B[39m action)[\u001B[38;5;241m0\u001B[39m][\u001B[38;5;241m0\u001B[39m]\n\u001B[1;32m     91\u001B[0m \u001B[38;5;66;03m# get the index of the next state\u001B[39;00m\n\u001B[0;32m---> 92\u001B[0m next_state_index \u001B[38;5;241m=\u001B[39m np\u001B[38;5;241m.\u001B[39margwhere(\u001B[38;5;28;43mself\u001B[39;49m\u001B[38;5;241;43m.\u001B[39;49m\u001B[43maction_space\u001B[49m\u001B[43m \u001B[49m\u001B[38;5;241;43m==\u001B[39;49m\u001B[43m \u001B[49m\u001B[43mnext_state\u001B[49m)[\u001B[38;5;241m0\u001B[39m][\u001B[38;5;241m0\u001B[39m]\n\u001B[1;32m     93\u001B[0m \u001B[38;5;66;03m# update Q\u001B[39;00m\n\u001B[1;32m     94\u001B[0m \u001B[38;5;28mself\u001B[39m\u001B[38;5;241m.\u001B[39mQ[state[\u001B[38;5;241m0\u001B[39m], state[\u001B[38;5;241m1\u001B[39m], state[\u001B[38;5;241m2\u001B[39m], state[\u001B[38;5;241m3\u001B[39m], action_index] \u001B[38;5;241m+\u001B[39m\u001B[38;5;241m=\u001B[39m alpha \u001B[38;5;241m*\u001B[39m (reward \u001B[38;5;241m+\u001B[39m gamma \u001B[38;5;241m*\u001B[39m np\u001B[38;5;241m.\u001B[39mmax(\u001B[38;5;28mself\u001B[39m\u001B[38;5;241m.\u001B[39mQ[next_state[\u001B[38;5;241m0\u001B[39m], next_state[\u001B[38;5;241m1\u001B[39m], next_state[\u001B[38;5;241m2\u001B[39m], next_state[\u001B[38;5;241m3\u001B[39m]]) \u001B[38;5;241m-\u001B[39m \u001B[38;5;28mself\u001B[39m\u001B[38;5;241m.\u001B[39mQ[state[\u001B[38;5;241m0\u001B[39m], state[\u001B[38;5;241m1\u001B[39m], state[\u001B[38;5;241m2\u001B[39m], state[\u001B[38;5;241m3\u001B[39m], action_index])\n",
      "\u001B[0;31mValueError\u001B[0m: operands could not be broadcast together with shapes (9,2) (4,) "
     ]
    }
   ],
   "source": [
    "# run the car\n",
    "for i in range(1000):\n",
    "    racetrack.run_mont_carlo(0.1, 0.99)\n",
    "    if i % 100 == 0:\n",
    "        print(i)"
   ],
   "metadata": {
    "collapsed": false,
    "ExecuteTime": {
     "end_time": "2023-12-02T15:42:26.786788Z",
     "start_time": "2023-12-02T15:42:26.705072Z"
    }
   },
   "id": "87df7e6d5c15ec7b"
  },
  {
   "cell_type": "code",
   "execution_count": null,
   "outputs": [],
   "source": [],
   "metadata": {
    "collapsed": false
   },
   "id": "b8a7056ad095f9bd"
  }
 ],
 "metadata": {
  "kernelspec": {
   "display_name": "Python 3",
   "language": "python",
   "name": "python3"
  },
  "language_info": {
   "codemirror_mode": {
    "name": "ipython",
    "version": 2
   },
   "file_extension": ".py",
   "mimetype": "text/x-python",
   "name": "python",
   "nbconvert_exporter": "python",
   "pygments_lexer": "ipython2",
   "version": "2.7.6"
  }
 },
 "nbformat": 4,
 "nbformat_minor": 5
}
