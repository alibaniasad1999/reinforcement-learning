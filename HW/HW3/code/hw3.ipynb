{
 "cells": [
  {
   "cell_type": "code",
   "execution_count": 2,
   "metadata": {},
   "outputs": [],
   "source": [
    "import numpy as np\n",
    "import matplotlib.pyplot as plt"
   ]
  },
  {
   "cell_type": "code",
   "execution_count": 3,
   "metadata": {},
   "outputs": [
    {
     "data": {
      "image/png": "[encoded data removed]",
      "text/plain": [
       "<Figure size 640x480 with 1 Axes>"
      ]
     },
     "metadata": {},
     "output_type": "display_data"
    }
   ],
   "source": [
    "# solving car racing problem using monte carlo method reinforcement learning\n",
    "# the car racing problem is a 5x5 grid, with the car starting at the bottom\n",
    "# left corner, and the goal at the top right corner. The car can move up, down, left, or right \n",
    "\n",
    "\n",
    "# initialize the grid\n",
    "grid = np.zeros((5,5))\n",
    "# set the goal\n",
    "grid[0,4] = 1\n",
    "# set the starting position down in random row\n",
    "# grid[4,np.random.randint(0,5)] = 2\n",
    "# set walls\n",
    "grid[1,1] = -1\n",
    "grid[1,2] = -1\n",
    "grid[2,1] = -1\n",
    "grid[2,2] = -1\n",
    "grid[3,2] = -1\n",
    "grid[3,3] = -1\n",
    "grid[3,4] = -1\n",
    "\n",
    "# plot the grid\n",
    "plt.imshow(grid, cmap='gray')\n",
    "plt.show()"
   ]
  },
  {
   "cell_type": "code",
   "execution_count": 7,
   "metadata": {},
   "outputs": [
    {
     "ename": "IndentationError",
     "evalue": "unindent does not match any outer indentation level (<tokenize>, line 102)",
     "output_type": "error",
     "traceback": [
      "\u001b[0;36m  File \u001b[0;32m<tokenize>:102\u001b[0;36m\u001b[0m\n\u001b[0;31m    for i in range(self.gridworld_size[0]):\u001b[0m\n\u001b[0m    ^\u001b[0m\n\u001b[0;31mIndentationError\u001b[0m\u001b[0;31m:\u001b[0m unindent does not match any outer indentation level\n"
     ]
    }
   ],
   "source": [
    "class race():\n",
    "    def __init__(self, grid):\n",
    "        self.grid = grid\n",
    "        # three action 0, 1 -1 add to velocity of car in x and y direction\n",
    "        # action space is 3x3 = 9\n",
    "        # current state of car is down of the map with random x\n",
    "        self.current_state = np.array([4, np.random.randint(0,5), 0, 0]) # x, y, vx, vy\n",
    "        self.gridworld_size = (5,5)\n",
    "        self.returns = {(i,j):list() for i in range(self.gridworld_size[0]) for j in range(self.gridworld_size[1])}\n",
    "        self.action = np.array([0,0])\n",
    "        self.reward = 0\n",
    "        self.done = False\n",
    "        self.gamma = 0.9\n",
    "        self.alpha = 0.1\n",
    "        self.epsilon = 0.1\n",
    "        self.Q = np.zeros((5,5,3,3))\n",
    "        self.policy = np.zeros((5,5))\n",
    "        # save data from each episode reward and state\n",
    "        self.episode_reward = []\n",
    "        self.episode_state = []\n",
    "        self.episode_action = []\n",
    "        self.episode = 0\n",
    "\n",
    "    def reset(self):\n",
    "        # reset the car to the bottom left corner\n",
    "        self.current_state = np.array([4, np.random.randint(0,5), 0, 0])\n",
    "        self.done = False\n",
    "        self.action = np.array([0,0])\n",
    "\n",
    "    def get_action(self):\n",
    "        # get the action from the policy\n",
    "        # epsilon greedy policy\n",
    "        if np.random.rand() < self.epsilon:\n",
    "            self.action = np.array([np.random.randint(-1,2), np.random.randint(-1,2)])\n",
    "        else:\n",
    "            self.action = np.array([self.policy[self.current_state[0], self.current_state[1]], self.policy[self.current_state[0], self.current_state[1]]])\n",
    "        # check velocity vj > 0 and vj , vi < 5\n",
    "        if self.action[1] <= 0:\n",
    "            self.action[1] = 1\n",
    "        if self.action[1] == 0 and self.action[0] == 0:\n",
    "            self.action[0] = 1\n",
    "        print(self.action)\n",
    "\n",
    "    def move(self):\n",
    "        # move the car according to the action\n",
    "        # update the velocity\n",
    "        print(self.action)\n",
    "        print(self.current_state)\n",
    "        print(self.episode)\n",
    "        self.current_state[2] += self.action[0]\n",
    "        self.current_state[3] += self.action[1]\n",
    "        # check if the car is out of bound\n",
    "        if self.current_state[0] + self.current_state[2] < 0 or self.current_state[0] + self.current_state[2] > 4:\n",
    "            self.current_state[2] = 0\n",
    "        if self.current_state[1] + self.current_state[3] < 0 or self.current_state[1] + self.current_state[3] > 4:\n",
    "            self.current_state[3] = 0\n",
    "        # update the position\n",
    "        self.current_state[0] += self.current_state[2]\n",
    "        self.current_state[1] += self.current_state[3]\n",
    "        # check if the car is in the goal\n",
    "        if self.grid[self.current_state[0], self.current_state[1]] == 1:\n",
    "            self.reward = 10\n",
    "            self.done = True\n",
    "        # check if the car hit the wall\n",
    "        if self.grid[self.current_state[0], self.current_state[1]] == -1:\n",
    "            self.reward = -10\n",
    "            self.done = True\n",
    "        else:\n",
    "            self.reward = -1\n",
    "        self.grid = np.zeros((5,5))\n",
    "        # set the goal\n",
    "        self.grid[0,4] = 1\n",
    "        # set the starting position down in random row\n",
    "        # grid[4,np.random.randint(0,5)] = 2\n",
    "        # set walls\n",
    "        self.grid[1,1] = -1\n",
    "        self.grid[1,2] = -1\n",
    "        self.grid[2,1] = -1\n",
    "        self.grid[2,2] = -1\n",
    "        self.grid[3,2] = 0\n",
    "        self.grid[3,3] = 0\n",
    "        self.grid[3,4] = 0\n",
    "        self.grid[self.current_state[0], self.current_state[1]] = 3\n",
    "        plt.imshow(self.grid, cmap='gray')\n",
    "        plt.show()\n",
    "    # run one episode\n",
    "    def run(self):\n",
    "        self.episode += 1\n",
    "        self.reset()\n",
    "        self.episode_reward = []\n",
    "        self.episode_state = []\n",
    "        self.episode_action = []\n",
    "        while not self.done:\n",
    "            self.episode_state.append(self.current_state)\n",
    "            self.get_action()\n",
    "            self.episode_action.append(self.action)\n",
    "            self.move()\n",
    "            self.episode_reward.append(self.reward)\n",
    "    \n",
    "    # Update state values using the observed episode\n",
    "    G = 0\n",
    "    def update(self):\n",
    "    # update the Q table\n",
    "      self.G = 0\n",
    "      for i in range(len(self.episode_reward)-1, -1, -1):\n",
    "          self.G = self.gamma * self.G + self.episode_reward[i]\n",
    "          self.returns[(self.episode_state[i][0], self.episode_state[i][1])].append(self.G)\n",
    "          self.Q[self.episode_state[i][0], self.episode_state[i][1], int(self.episode_action[i][0]), int(self.episode_action[i][1])] = np.mean(self.returns[(self.episode_state[i][0], self.episode_state[i][1])])\n",
    "      # update the policy\n",
    "      for i in range(self.gridworld_size[0]):\n",
    "          for j in range(self.gridworld_size[1]):\n",
    "              self.policy[i,j] = np.argmax(self.Q[i,j,:,:])\n",
    "    \n",
    "\n",
    "    def train(self, num_episodes):\n",
    "        for i in range(num_episodes):\n",
    "            print('episode: ', self.episode)\n",
    "            self.run()\n",
    "            self.update()\n",
    "            # initialize the grid\n",
    "            self.grid = np.zeros((5,5))\n",
    "            # set the goal\n",
    "            self.grid[0,4] = 1\n",
    "            # set the starting position down in random row\n",
    "            # grid[4,np.random.randint(0,5)] = 2\n",
    "            # set walls\n",
    "            self.grid[1,1] = -1\n",
    "            self.grid[1,2] = -1\n",
    "            self.grid[2,1] = -1\n",
    "            self.grid[2,2] = -1\n",
    "            self.grid[3,2] = 0\n",
    "            self.grid[3,3] = 0\n",
    "            self.grid[3,4] = 0\n",
    "            self.reset()\n",
    "        print(\"Training finished\")\n",
    "        print(\"Policy: \")\n",
    "        print(self.policy)\n",
    "        print(\"Q: \")\n",
    "        print(self.Q)\n",
    "        print(\"Returns: \")\n",
    "        print(self.returns)\n",
    "        print(\"Episode reward: \")\n",
    "        print(self.episode_reward)\n",
    "        plt.imshow(self.policy, cmap='gray')\n",
    "\n",
    "    def test(self):\n",
    "        self.run()\n",
    "        print(\"Test finished\")\n",
    "        print(\"Policy: \")\n",
    "        print(self.policy)\n",
    "        print(\"Q: \")\n",
    "        print(self.Q)\n",
    "        print(\"Returns: \")\n",
    "        print(self.returns)\n",
    "        print(\"Episode reward: \")\n",
    "        print(self.episode_reward)\n",
    "        "
   ]
  },
  {
   "cell_type": "code",
   "execution_count": 5,
   "metadata": {},
   "outputs": [
    {
     "name": "stdout",
     "output_type": "stream",
     "text": [
      "episode:  0\n",
      "[0. 0.]\n",
      "[0. 0.]\n",
      "[4 2 0 0]\n"
     ]
    },
    {
     "data": {
      "image/png": "[encoded data removed]",
      "text/plain": [
       "<Figure size 640x480 with 1 Axes>"
      ]
     },
     "metadata": {},
     "output_type": "display_data"
    },
    {
     "name": "stdout",
     "output_type": "stream",
     "text": [
      "[0. 0.]\n",
      "[0. 0.]\n",
      "[4 2 0 0]\n"
     ]
    },
    {
     "data": {
      "image/png": "[encoded data removed]",
      "text/plain": [
       "<Figure size 640x480 with 1 Axes>"
      ]
     },
     "metadata": {},
     "output_type": "display_data"
    },
    {
     "name": "stdout",
     "output_type": "stream",
     "text": [
      "[0 0]\n",
      "[0 0]\n",
      "[4 2 0 0]\n"
     ]
    },
    {
     "data": {
      "image/png": "[encoded data removed]",
      "text/plain": [
       "<Figure size 640x480 with 1 Axes>"
      ]
     },
     "metadata": {},
     "output_type": "display_data"
    },
    {
     "name": "stdout",
     "output_type": "stream",
     "text": [
      "[0. 0.]\n",
      "[0. 0.]\n",
      "[4 2 0 0]\n"
     ]
    },
    {
     "data": {
      "image/png": "[encoded data removed]",
      "text/plain": [
       "<Figure size 640x480 with 1 Axes>"
      ]
     },
     "metadata": {},
     "output_type": "display_data"
    },
    {
     "name": "stdout",
     "output_type": "stream",
     "text": [
      "[ 0 -1]\n",
      "[ 0 -1]\n",
      "[4 2 0 0]\n"
     ]
    },
    {
     "data": {
      "image/png": "[encoded data removed]",
      "text/plain": [
       "<Figure size 640x480 with 1 Axes>"
      ]
     },
     "metadata": {},
     "output_type": "display_data"
    },
    {
     "name": "stdout",
     "output_type": "stream",
     "text": [
      "[0. 0.]\n",
      "[0. 0.]\n",
      "[ 4  1  0 -1]\n"
     ]
    },
    {
     "data": {
      "image/png": "[encoded data removed]",
      "text/plain": [
       "<Figure size 640x480 with 1 Axes>"
      ]
     },
     "metadata": {},
     "output_type": "display_data"
    },
    {
     "name": "stdout",
     "output_type": "stream",
     "text": [
      "[0. 0.]\n",
      "[0. 0.]\n",
      "[ 4  0  0 -1]\n"
     ]
    },
    {
     "data": {
      "image/png": "[encoded data removed]",
      "text/plain": [
       "<Figure size 640x480 with 1 Axes>"
      ]
     },
     "metadata": {},
     "output_type": "display_data"
    },
    {
     "name": "stdout",
     "output_type": "stream",
     "text": [
      "[0. 0.]\n",
      "[0. 0.]\n",
      "[4 0 0 0]\n"
     ]
    },
    {
     "data": {
      "image/png": "[encoded data removed]",
      "text/plain": [
       "<Figure size 640x480 with 1 Axes>"
      ]
     },
     "metadata": {},
     "output_type": "display_data"
    },
    {
     "name": "stdout",
     "output_type": "stream",
     "text": [
      "[0. 0.]\n",
      "[0. 0.]\n",
      "[4 0 0 0]\n"
     ]
    },
    {
     "data": {
      "image/png": "[encoded data removed]",
      "text/plain": [
       "<Figure size 640x480 with 1 Axes>"
      ]
     },
     "metadata": {},
     "output_type": "display_data"
    },
    {
     "name": "stdout",
     "output_type": "stream",
     "text": [
      "[0. 0.]\n",
      "[0. 0.]\n",
      "[4 0 0 0]\n"
     ]
    },
    {
     "data": {
      "image/png": "[encoded data removed]",
      "text/plain": [
       "<Figure size 640x480 with 1 Axes>"
      ]
     },
     "metadata": {},
     "output_type": "display_data"
    },
    {
     "name": "stdout",
     "output_type": "stream",
     "text": [
      "[0 1]\n",
      "[0 1]\n",
      "[4 0 0 0]\n"
     ]
    },
    {
     "data": {
      "image/png": "[encoded data removed]",
      "text/plain": [
       "<Figure size 640x480 with 1 Axes>"
      ]
     },
     "metadata": {},
     "output_type": "display_data"
    },
    {
     "name": "stdout",
     "output_type": "stream",
     "text": [
      "[0. 0.]\n",
      "[0. 0.]\n",
      "[4 1 0 1]\n"
     ]
    },
    {
     "data": {
      "image/png": "[encoded data removed]",
      "text/plain": [
       "<Figure size 640x480 with 1 Axes>"
      ]
     },
     "metadata": {},
     "output_type": "display_data"
    },
    {
     "name": "stdout",
     "output_type": "stream",
     "text": [
      "[-1  0]\n",
      "[-1  0]\n",
      "[4 2 0 1]\n"
     ]
    },
    {
     "data": {
      "image/png": "[encoded data removed]",
      "text/plain": [
       "<Figure size 640x480 with 1 Axes>"
      ]
     },
     "metadata": {},
     "output_type": "display_data"
    },
    {
     "name": "stdout",
     "output_type": "stream",
     "text": [
      "episode:  1\n",
      "[[0 0 0]\n",
      " [0 0 0]]\n",
      "[[0 0 0]\n",
      " [0 0 0]]\n",
      "[4 1 0 0]\n"
     ]
    },
    {
     "ename": "ValueError",
     "evalue": "setting an array element with a sequence.",
     "output_type": "error",
     "traceback": [
      "\u001b[0;31m---------------------------------------------------------------------------\u001b[0m",
      "\u001b[0;31mTypeError\u001b[0m                                 Traceback (most recent call last)",
      "\u001b[0;31mTypeError\u001b[0m: only length-1 arrays can be converted to Python scalars",
      "\nThe above exception was the direct cause of the following exception:\n",
      "\u001b[0;31mValueError\u001b[0m                                Traceback (most recent call last)",
      "\u001b[1;32m/Users/Ali/Documents/BAI/Master/reinforcement-learning/HW/HW3/code/hw3.ipynb Cell 4\u001b[0m line \u001b[0;36m4\n\u001b[1;32m      <a href='vscode-notebook-cell:/Users/Ali/Documents/BAI/Master/reinforcement-learning/HW/HW3/code/hw3.ipynb#W3sZmlsZQ%3D%3D?line=0'>1</a>\u001b[0m \u001b[39m# run the monte carlo method\u001b[39;00m\n\u001b[1;32m      <a href='vscode-notebook-cell:/Users/Ali/Documents/BAI/Master/reinforcement-learning/HW/HW3/code/hw3.ipynb#W3sZmlsZQ%3D%3D?line=1'>2</a>\u001b[0m car_race \u001b[39m=\u001b[39m race(grid)\n\u001b[0;32m----> <a href='vscode-notebook-cell:/Users/Ali/Documents/BAI/Master/reinforcement-learning/HW/HW3/code/hw3.ipynb#W3sZmlsZQ%3D%3D?line=3'>4</a>\u001b[0m car_race\u001b[39m.\u001b[39;49mtrain(\u001b[39m1000\u001b[39;49m)\n",
      "\u001b[1;32m/Users/Ali/Documents/BAI/Master/reinforcement-learning/HW/HW3/code/hw3.ipynb Cell 4\u001b[0m line \u001b[0;36m1\n\u001b[1;32m    <a href='vscode-notebook-cell:/Users/Ali/Documents/BAI/Master/reinforcement-learning/HW/HW3/code/hw3.ipynb#W3sZmlsZQ%3D%3D?line=104'>105</a>\u001b[0m \u001b[39mfor\u001b[39;00m i \u001b[39min\u001b[39;00m \u001b[39mrange\u001b[39m(num_episodes):\n\u001b[1;32m    <a href='vscode-notebook-cell:/Users/Ali/Documents/BAI/Master/reinforcement-learning/HW/HW3/code/hw3.ipynb#W3sZmlsZQ%3D%3D?line=105'>106</a>\u001b[0m     \u001b[39mprint\u001b[39m(\u001b[39m'\u001b[39m\u001b[39mepisode: \u001b[39m\u001b[39m'\u001b[39m, \u001b[39mself\u001b[39m\u001b[39m.\u001b[39mepisode)\n\u001b[0;32m--> <a href='vscode-notebook-cell:/Users/Ali/Documents/BAI/Master/reinforcement-learning/HW/HW3/code/hw3.ipynb#W3sZmlsZQ%3D%3D?line=106'>107</a>\u001b[0m     \u001b[39mself\u001b[39;49m\u001b[39m.\u001b[39;49mrun()\n\u001b[1;32m    <a href='vscode-notebook-cell:/Users/Ali/Documents/BAI/Master/reinforcement-learning/HW/HW3/code/hw3.ipynb#W3sZmlsZQ%3D%3D?line=107'>108</a>\u001b[0m     \u001b[39mself\u001b[39m\u001b[39m.\u001b[39mupdate()\n\u001b[1;32m    <a href='vscode-notebook-cell:/Users/Ali/Documents/BAI/Master/reinforcement-learning/HW/HW3/code/hw3.ipynb#W3sZmlsZQ%3D%3D?line=108'>109</a>\u001b[0m     \u001b[39m# initialize the grid\u001b[39;00m\n",
      "\u001b[1;32m/Users/Ali/Documents/BAI/Master/reinforcement-learning/HW/HW3/code/hw3.ipynb Cell 4\u001b[0m line \u001b[0;36m8\n\u001b[1;32m     <a href='vscode-notebook-cell:/Users/Ali/Documents/BAI/Master/reinforcement-learning/HW/HW3/code/hw3.ipynb#W3sZmlsZQ%3D%3D?line=86'>87</a>\u001b[0m \u001b[39mself\u001b[39m\u001b[39m.\u001b[39mget_action()\n\u001b[1;32m     <a href='vscode-notebook-cell:/Users/Ali/Documents/BAI/Master/reinforcement-learning/HW/HW3/code/hw3.ipynb#W3sZmlsZQ%3D%3D?line=87'>88</a>\u001b[0m \u001b[39mself\u001b[39m\u001b[39m.\u001b[39mepisode_action\u001b[39m.\u001b[39mappend(\u001b[39mself\u001b[39m\u001b[39m.\u001b[39maction)\n\u001b[0;32m---> <a href='vscode-notebook-cell:/Users/Ali/Documents/BAI/Master/reinforcement-learning/HW/HW3/code/hw3.ipynb#W3sZmlsZQ%3D%3D?line=88'>89</a>\u001b[0m \u001b[39mself\u001b[39;49m\u001b[39m.\u001b[39;49mmove()\n\u001b[1;32m     <a href='vscode-notebook-cell:/Users/Ali/Documents/BAI/Master/reinforcement-learning/HW/HW3/code/hw3.ipynb#W3sZmlsZQ%3D%3D?line=89'>90</a>\u001b[0m \u001b[39mself\u001b[39m\u001b[39m.\u001b[39mepisode_reward\u001b[39m.\u001b[39mappend(\u001b[39mself\u001b[39m\u001b[39m.\u001b[39mreward)\n",
      "\u001b[1;32m/Users/Ali/Documents/BAI/Master/reinforcement-learning/HW/HW3/code/hw3.ipynb Cell 4\u001b[0m line \u001b[0;36m4\n\u001b[1;32m     <a href='vscode-notebook-cell:/Users/Ali/Documents/BAI/Master/reinforcement-learning/HW/HW3/code/hw3.ipynb#W3sZmlsZQ%3D%3D?line=41'>42</a>\u001b[0m \u001b[39mprint\u001b[39m(\u001b[39mself\u001b[39m\u001b[39m.\u001b[39maction)\n\u001b[1;32m     <a href='vscode-notebook-cell:/Users/Ali/Documents/BAI/Master/reinforcement-learning/HW/HW3/code/hw3.ipynb#W3sZmlsZQ%3D%3D?line=42'>43</a>\u001b[0m \u001b[39mprint\u001b[39m(\u001b[39mself\u001b[39m\u001b[39m.\u001b[39mcurrent_state)\n\u001b[0;32m---> <a href='vscode-notebook-cell:/Users/Ali/Documents/BAI/Master/reinforcement-learning/HW/HW3/code/hw3.ipynb#W3sZmlsZQ%3D%3D?line=43'>44</a>\u001b[0m \u001b[39mself\u001b[39;49m\u001b[39m.\u001b[39;49mcurrent_state[\u001b[39m2\u001b[39;49m] \u001b[39m+\u001b[39m\u001b[39m=\u001b[39m \u001b[39mself\u001b[39m\u001b[39m.\u001b[39maction[\u001b[39m0\u001b[39m]\n\u001b[1;32m     <a href='vscode-notebook-cell:/Users/Ali/Documents/BAI/Master/reinforcement-learning/HW/HW3/code/hw3.ipynb#W3sZmlsZQ%3D%3D?line=44'>45</a>\u001b[0m \u001b[39mself\u001b[39m\u001b[39m.\u001b[39mcurrent_state[\u001b[39m3\u001b[39m] \u001b[39m+\u001b[39m\u001b[39m=\u001b[39m \u001b[39mself\u001b[39m\u001b[39m.\u001b[39maction[\u001b[39m1\u001b[39m]\n\u001b[1;32m     <a href='vscode-notebook-cell:/Users/Ali/Documents/BAI/Master/reinforcement-learning/HW/HW3/code/hw3.ipynb#W3sZmlsZQ%3D%3D?line=45'>46</a>\u001b[0m \u001b[39m# check if the car is out of bound\u001b[39;00m\n",
      "\u001b[0;31mValueError\u001b[0m: setting an array element with a sequence."
     ]
    }
   ],
   "source": [
    "# run the monte carlo method\n",
    "car_race = race(grid)\n",
    "\n",
    "car_race.train(1000)"
   ]
  }
 ],
 "metadata": {
  "kernelspec": {
   "display_name": ".env",
   "language": "python",
   "name": "python3"
  },
  "language_info": {
   "codemirror_mode": {
    "name": "ipython",
    "version": 3
   },
   "file_extension": ".py",
   "mimetype": "text/x-python",
   "name": "python",
   "nbconvert_exporter": "python",
   "pygments_lexer": "ipython3",
   "version": "3.11.3"
  }
 },
 "nbformat": 4,
 "nbformat_minor": 2
}
