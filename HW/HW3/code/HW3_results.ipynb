{
 "cells": [
  {
   "cell_type": "code",
   "execution_count": 1,
   "id": "initial_id",
   "metadata": {
    "ExecuteTime": {
     "end_time": "2023-12-02T14:55:18.328703Z",
     "start_time": "2023-12-02T14:55:17.506836Z"
    },
    "collapsed": true
   },
   "outputs": [],
   "source": [
    "# solving racetrack using reinforcement learning\n",
    "import numpy as np\n",
    "import matplotlib.pyplot as plt"
   ]
  },
  {
   "cell_type": "code",
   "execution_count": 2,
   "id": "a965349e07c8016d",
   "metadata": {
    "ExecuteTime": {
     "end_time": "2023-12-02T14:56:05.708020Z",
     "start_time": "2023-12-02T14:56:05.668087Z"
    },
    "collapsed": false
   },
   "outputs": [],
   "source": [
    "# define the racetrack\n",
    "# 0: empty\n",
    "# 1: obstacle\n",
    "# 2: start\n",
    "# 3: finish\n",
    "racetrack_map = np.array([\n",
    "    [1, 1, 1, 1, 1, 1, 1, 1, 1, 1, 1, 1, 1, 1, 1, 0, 0, 0, 0, 0, 0, 0, 0, 0, 0, 0, 0, 0, 0, 0, 0, 3],\n",
    "    [1, 1, 1, 1, 1, 1, 1, 1, 1, 1, 1, 1, 1, 0, 0, 0, 0, 0, 0, 0, 0, 0, 0, 0, 0, 0, 0, 0, 0, 0, 0, 3],\n",
    "    [1, 1, 1, 1, 1, 1, 1, 1, 1, 1, 1, 1, 0, 0, 0, 0, 0, 0, 0, 0, 0, 0, 0, 0, 0, 0, 0, 0, 0, 0, 0, 3],\n",
    "    [1, 1, 1, 1, 1, 1, 1, 1, 1, 1, 1, 0, 0, 0, 0, 0, 0, 0, 0, 0, 0, 0, 0, 0, 0, 0, 0, 0, 0, 0, 0, 3],\n",
    "    [1, 1, 1, 1, 1, 1, 1, 1, 1, 1, 1, 0, 0, 0, 0, 0, 0, 0, 0, 0, 0, 0, 0, 0, 0, 0, 0, 0, 0, 0, 0, 3],\n",
    "    [1, 1, 1, 1, 1, 1, 1, 1, 1, 1, 1, 0, 0, 0, 0, 0, 0, 0, 0, 0, 0, 0, 0, 0, 0, 0, 0, 0, 0, 0, 0, 3],\n",
    "    [1, 1, 1, 1, 1, 1, 1, 1, 1, 1, 1, 0, 0, 0, 0, 0, 0, 0, 0, 0, 0, 0, 0, 0, 0, 0, 0, 0, 0, 0, 0, 3],\n",
    "    [1, 1, 1, 1, 1, 1, 1, 1, 1, 1, 1, 1, 0, 0, 0, 0, 0, 0, 0, 0, 0, 0, 0, 0, 0, 0, 0, 0, 0, 0, 0, 3],\n",
    "    [1, 1, 1, 1, 1, 1, 1, 1, 1, 1, 1, 1, 1, 0, 0, 0, 0, 0, 0, 0, 0, 0, 0, 0, 0, 0, 0, 0, 0, 0, 0, 3],\n",
    "    [1, 1, 1, 1, 1, 1, 1, 1, 1, 1, 1, 1, 1, 1, 0, 0, 0, 0, 0, 0, 0, 0, 0, 0, 0, 0, 0, 0, 0, 0, 1, 1],\n",
    "    [1, 1, 1, 1, 1, 1, 1, 1, 1, 1, 1, 1, 1, 1, 0, 0, 0, 0, 0, 0, 0, 0, 0, 0, 0, 0, 0, 1, 1, 1, 1, 1],\n",
    "    [1, 1, 1, 1, 1, 1, 1, 1, 1, 1, 1, 1, 1, 1, 0, 0, 0, 0, 0, 0, 0, 0, 0, 0, 0, 0, 1, 1, 1, 1, 1, 1],\n",
    "    [1, 1, 1, 1, 1, 1, 1, 1, 1, 1, 1, 1, 1, 1, 0, 0, 0, 0, 0, 0, 0, 0, 0, 0, 1, 1, 1, 1, 1, 1, 1, 1],\n",
    "    [1, 1, 1, 1, 1, 1, 1, 1, 1, 1, 1, 1, 1, 1, 0, 0, 0, 0, 0, 0, 0, 0, 0, 1, 1, 1, 1, 1, 1, 1, 1, 1],\n",
    "    [1, 1, 1, 1, 1, 1, 1, 1, 1, 1, 1, 1, 1, 0, 0, 0, 0, 0, 0, 0, 0, 0, 0, 1, 1, 1, 1, 1, 1, 1, 1, 1],\n",
    "    [1, 1, 1, 1, 1, 1, 1, 1, 1, 1, 1, 1, 0, 0, 0, 0, 0, 0, 0, 0, 0, 0, 0, 1, 1, 1, 1, 1, 1, 1, 1, 1],\n",
    "    [1, 1, 1, 1, 1, 1, 1, 1, 1, 1, 1, 0, 0, 0, 0, 0, 0, 0, 0, 0, 0, 0, 0, 1, 1, 1, 1, 1, 1, 1, 1, 1],\n",
    "    [1, 1, 1, 1, 1, 1, 1, 1, 1, 1, 0, 0, 0, 0, 0, 0, 0, 0, 0, 0, 0, 0, 0, 1, 1, 1, 1, 1, 1, 1, 1, 1],\n",
    "    [1, 1, 1, 1, 1, 1, 1, 1, 1, 0, 0, 0, 0, 0, 0, 0, 0, 0, 0, 0, 0, 0, 0, 1, 1, 1, 1, 1, 1, 1, 1, 1],\n",
    "    [1, 1, 1, 1, 1, 1, 1, 1, 0, 0, 0, 0, 0, 0, 0, 0, 0, 0, 0, 0, 0, 0, 0, 1, 1, 1, 1, 1, 1, 1, 1, 1],\n",
    "    [1, 1, 1, 1, 1, 1, 1, 0, 0, 0, 0, 0, 0, 0, 0, 0, 0, 0, 0, 0, 0, 0, 0, 1, 1, 1, 1, 1, 1, 1, 1, 1],\n",
    "    [1, 1, 1, 1, 1, 1, 0, 0, 0, 0, 0, 0, 0, 0, 0, 0, 0, 0, 0, 0, 0, 0, 0, 1, 1, 1, 1, 1, 1, 1, 1, 1],\n",
    "    [1, 1, 1, 1, 1, 0, 0, 0, 0, 0, 0, 0, 0, 0, 0, 0, 0, 0, 0, 0, 0, 0, 0, 1, 1, 1, 1, 1, 1, 1, 1, 1],\n",
    "    [1, 1, 1, 1, 0, 0, 0, 0, 0, 0, 0, 0, 0, 0, 0, 0, 0, 0, 0, 0, 0, 0, 0, 1, 1, 1, 1, 1, 1, 1, 1, 1],\n",
    "    [1, 1, 1, 0, 0, 0, 0, 0, 0, 0, 0, 0, 0, 0, 0, 0, 0, 0, 0, 0, 0, 0, 0, 1, 1, 1, 1, 1, 1, 1, 1, 1],\n",
    "    [1, 1, 0, 0, 0, 0, 0, 0, 0, 0, 0, 0, 0, 0, 0, 0, 0, 0, 0, 0, 0, 0, 0, 1, 1, 1, 1, 1, 1, 1, 1, 1],\n",
    "    [1, 0, 0, 0, 0, 0, 0, 0, 0, 0, 0, 0, 0, 0, 0, 0, 0, 0, 0, 0, 0, 0, 0, 1, 1, 1, 1, 1, 1, 1, 1, 1],\n",
    "    [0, 0, 0, 0, 0, 0, 0, 0, 0, 0, 0, 0, 0, 0, 0, 0, 0, 0, 0, 0, 0, 0, 0, 1, 1, 1, 1, 1, 1, 1, 1, 1],\n",
    "    [0, 0, 0, 0, 0, 0, 0, 0, 0, 0, 0, 0, 0, 0, 0, 0, 0, 0, 0, 0, 0, 0, 0, 1, 1, 1, 1, 1, 1, 1, 1, 1],\n",
    "    [2, 2, 2, 2, 2, 2, 2, 2, 2, 2, 2, 2, 2, 2, 2, 2, 2, 2, 2, 2, 2, 2, 2, 1, 1, 1, 1, 1, 1, 1, 1, 1]\n",
    "  ], dtype=np.int32)"
   ]
  },
  {
   "cell_type": "code",
   "execution_count": 3,
   "id": "d30ceeda1ee94e16",
   "metadata": {
    "ExecuteTime": {
     "end_time": "2023-12-02T14:56:06.572958Z",
     "start_time": "2023-12-02T14:56:06.389260Z"
    },
    "collapsed": false
   },
   "outputs": [
    {
     "data": {
      "image/png": "[encoded data removed]",
      "text/plain": [
       "<Figure size 640x480 with 1 Axes>"
      ]
     },
     "metadata": {},
     "output_type": "display_data"
    }
   ],
   "source": [
    "# plot the racetrack\n",
    "plt.imshow(racetrack_map)\n",
    "plt.show()"
   ]
  },
  {
   "cell_type": "code",
   "execution_count": 4,
   "id": "cc10a0ef1e53e576",
   "metadata": {
    "ExecuteTime": {
     "end_time": "2023-12-02T15:41:19.220256Z",
     "start_time": "2023-12-02T15:41:19.136610Z"
    },
    "collapsed": false
   },
   "outputs": [
    {
     "name": "stdout",
     "output_type": "stream",
     "text": [
      "[array([29, 21]), 0, 0]\n",
      "[-1  0]\n"
     ]
    }
   ],
   "source": [
    "start_array = np.argwhere(racetrack_map == 2)\n",
    "print([start_array[np.random.randint(0, len(start_array))],0,0])\n",
    "action_space = np.array([\n",
    "            [-1, -1], [-1, 0], [-1, 1],\n",
    "            [0, -1], [0, 0], [0, 1],\n",
    "            [1, -1], [1, 0], [1, 1]\n",
    "        ])\n",
    "print(action_space[1])\n",
    "# np.random.randint(0, 9, size=(32, 32, 5, 9))"
   ]
  },
  {
   "cell_type": "code",
   "execution_count": 28,
   "id": "7f976da5831d525f",
   "metadata": {
    "ExecuteTime": {
     "end_time": "2023-12-03T11:26:03.679546Z",
     "start_time": "2023-12-03T11:26:03.543219Z"
    },
    "collapsed": false
   },
   "outputs": [],
   "source": [
    "class Racetrack:\n",
    "    def __init__(self, racetrack_map, start_num):\n",
    "        self.racetrack_map = racetrack_map\n",
    "        self.height = racetrack_map.shape[0]\n",
    "        self.width = racetrack_map.shape[1]\n",
    "        self.start_array = np.argwhere(racetrack_map == 2)\n",
    "        self.finish_array = np.argwhere(racetrack_map == 3)\n",
    "        self.start_num = start_num\n",
    "        # start position is random zero velocity\n",
    "        self.start = [self.start_array[self.start_num][0],\n",
    "                      self.start_array[self.start_num][1], 0, 0]\n",
    "        # finish position is fixed\n",
    "        self.position = self.start\n",
    "        self.action_space = np.array([\n",
    "            [-1, -1], [-1, 0], [-1, 1],\n",
    "            [0, -1], [0, 0], [0, 1],\n",
    "            [1, -1], [1, 0], [1, 1]\n",
    "        ])\n",
    "        self.reward = 0\n",
    "        self.visited_cells = []\n",
    "        # random policy x y dx dy 32 * 32 * 5 * 9\n",
    "        self.policy = np.random.randint(0, 9, size=(self.height, self.width, 5, 9))\n",
    "        # Q table x y dx dy 32 * 32 * 5 * 9 * num of actions\n",
    "        self.Q = np.zeros((self.height, self.width, 5, 9, len(self.action_space)))\n",
    "        self.is_done = False\n",
    "        self.epsilon = 0.1\n",
    "        self.gamma = 0.99\n",
    "\n",
    "    def reset(self):\n",
    "        self.start = [self.start_array[self.start_num][0],\n",
    "                      self.start_array[self.start_num][1], 0, 0]\n",
    "        self.is_done = False\n",
    "\n",
    "    def get_action(self, state):\n",
    "        # soft policy greedy\n",
    "        if np.random.random() > self.epsilon:\n",
    "            return self.action_space[self.policy[state[0], state[1], state[2], state[3]]]\n",
    "        else:\n",
    "            return self.action_space[np.random.randint(0, len(self.action_space))]\n",
    "\n",
    "    def step(self, action):\n",
    "        # update position\n",
    "        self.position[0] += self.position[2]\n",
    "        self.position[1] += self.position[3]\n",
    "        self.position[2] += action[0]\n",
    "        self.position[3] += action[1]\n",
    "        # check if the car is out of the racetrack\n",
    "        # check velocity valid\n",
    "        if self.position[2] < -4:\n",
    "            self.position[2] = -4\n",
    "        elif self.position[2] > 0:\n",
    "            self.position[2] = 0\n",
    "        if self.position[3] < -4:\n",
    "            self.position[3] = -4\n",
    "        elif self.position[3] > 4:\n",
    "            self.position[3] = 4\n",
    "        # all speed are zero\n",
    "        if self.position[2] == 0 and self.position[3] == 0:\n",
    "            self.position[2] = -1\n",
    "\n",
    "\n",
    "        if self.position[0] < 0:\n",
    "            self.position[0] = 0\n",
    "            self.position[2] = 0\n",
    "        if self.position[0] >= self.height:\n",
    "            self.position[0] = self.height - 1\n",
    "            self.position[2] = 0\n",
    "        if self.position[1] < 0:\n",
    "            self.position[3] = 0\n",
    "            self.position[1] = 0\n",
    "        if self.position[1] >= self.width:\n",
    "            self.position[3] = 0\n",
    "            self.position[1] = self.width - 1\n",
    "\n",
    "        if self.position[2] == 0 and self.position[3] == 0 and self.position[0] == 0:\n",
    "            self.position[3] = 1\n",
    "        # check if the car hits the obstacle\n",
    "        if self.racetrack_map[self.position[0], self.position[1]] == 1:\n",
    "            self.reset()\n",
    "            self.reward = -5\n",
    "        # check if the car reaches the finish line\n",
    "        elif self.racetrack_map[self.position[0], self.position[1]] == 3:\n",
    "            self.reward = 50\n",
    "            self.is_done = True\n",
    "\n",
    "        else:\n",
    "            self.reward = -1\n",
    "\n",
    "        return self.position, self.reward\n",
    "\n",
    "    def render(self):\n",
    "        racetrack_map = self.racetrack_map.copy()\n",
    "        racetrack_map[self.position[0], self.position[1]] = 4\n",
    "        plt.imshow(racetrack_map)\n",
    "        plt.show()\n",
    "\n",
    "    def get_state(self):\n",
    "        return self.position\n",
    "\n",
    "    def get_reward(self):\n",
    "        return self.reward\n",
    "\n",
    "    # update Q\n",
    "    def update_Q(self, state, action, reward, alpha, gamma):\n",
    "        # get the index of the action\n",
    "        for i in range(len(self.action_space)):\n",
    "            if np.sum(self.action_space[i] == action) == 2:\n",
    "                action_index = i\n",
    "                break\n",
    "        # get the index of the next state\n",
    "        # next_state_index = np.argwhere(self.action_space == next_state)[0][0]\n",
    "        # update Q\n",
    "        self.Q[state[0], state[1], state[2], state[3], action_index] += alpha * (\n",
    "                reward + gamma * np.max(self.Q[state[0], state[1], state[2], state[3]]) -\n",
    "                self.Q[state[0], state[1], state[2], state[3], action_index])\n",
    "\n",
    "    # update policy\n",
    "    def update_policy(self, state):\n",
    "        # get the index of the state\n",
    "        # state_index = np.argwhere(self.action_space == state)[0][0]\n",
    "        # update policy\n",
    "        self.policy[state[0], state[1], state[2], state[3]] = np.argmax(\n",
    "            self.Q[state[0], state[1], state[2], state[3]])\n",
    "        # if np.argmax(\n",
    "        #         self.Q[state[0], state[1], state[2], state[3]]) > 2:\n",
    "        #     print(np.argmax(\n",
    "        #         self.Q[state[0], state[1], state[2], state[3]]))\n",
    "\n",
    "        # plot Q for every 9 action (nine fig)\n",
    "\n",
    "\n",
    "\n",
    "    # run the car mont carlo\n",
    "    def run_mont_carlo(self, alpha, gamma, render_enable):\n",
    "        # reset the car\n",
    "        self.reset()\n",
    "        # save rewards and states\n",
    "        rewards = []\n",
    "        states = []\n",
    "        num_of_episode = 0\n",
    "        # run the car until it reaches the finish line\n",
    "        while not self.is_done:\n",
    "            num_of_episode += 1\n",
    "            if num_of_episode > 1000:\n",
    "                break\n",
    "            # get the current state\n",
    "            state = self.get_state()\n",
    "            # get the current action\n",
    "            action = self.get_action(state)\n",
    "            # save the current state copy it\n",
    "            states.append(state.copy())\n",
    "            # save the current reward\n",
    "            reward = self.get_reward()\n",
    "            rewards.append(reward)\n",
    "            # update the car\n",
    "            self.step(action)\n",
    "            if render_enable:\n",
    "                self.render()\n",
    "        if render_enable:\n",
    "            for i in range(9):\n",
    "                plt.imshow(self.Q[:, :, 1, 1, i])\n",
    "                print(i)\n",
    "                plt.show()\n",
    "        # calculate the return\n",
    "        G = 0\n",
    "        # save the return\n",
    "        returns = []\n",
    "        # calculate the return for each state\n",
    "        for i in range(len(states) - 1, -1, -1):\n",
    "            G = gamma * G + rewards[i]\n",
    "            returns.append(G)\n",
    "        # plot states on map\n",
    "        new_map = self.racetrack_map.copy()\n",
    "        for i in range(len(states)):\n",
    "            new_map[states[i][0], states[i][1]] = 4\n",
    "            # plot velocity state as arrow\n",
    "            plt.arrow(states[i][1], states[i][0], states[i][3]/2, states[i][2]/2, width=0.1, head_width=0.5, head_length=0.5, color='b')\n",
    "            # plot qriver action on map arrow\n",
    "            plt.arrow(states[i][1], states[i][0], self.action_space[self.policy[states[i][0], states[i][1], states[i][2], states[i][3]]][1], self.action_space[self.policy[states[i][0], states[i][1], states[i][2], states[i][3]]][0], width=0.1, head_width=0.5, head_length=0.5, color='r')\n",
    "\n",
    "\n",
    "        plt.imshow(new_map)\n",
    "        # plt.show()\n",
    "\n",
    "        # plt.show()\n",
    "        # save as eps\n",
    "        plt.savefig('../figure/fig_'+str(self.start_num)+'.eps', format='eps')\n",
    "        plt.close()\n",
    "        # reverse the returns\n",
    "        returns.reverse()\n",
    "        # update Q and policy\n",
    "        for i in range(len(states)):\n",
    "            if i == 0:\n",
    "                self.update_Q(states[i].copy(),\n",
    "                              self.action_space[self.policy[states[i][0], states[i][1], states[i][2], states[i][3]]],\n",
    "                              returns[i], alpha, gamma)\n",
    "            else:\n",
    "                self.update_Q(states[i],\n",
    "                              self.action_space[self.policy[states[i][0], states[i][1], states[i][2], states[i][3]]],\n",
    "                              returns[i], alpha, gamma)\n",
    "            self.update_policy(states[i])\n",
    "\n",
    "        self.epsilon *= self.gamma\n",
    "        # plot 9 plot in one plot subplot of Q\n",
    "        # for i in range(9):\n",
    "        #     plt.subplot(3, 3, i + 1)\n",
    "        #     plt.imshow(self.Q[:, :, 1, 1, i])\n",
    "        # plt.show()\n",
    "\n",
    "\n",
    "#"
   ]
  },
  {
   "cell_type": "code",
   "execution_count": 16,
   "id": "25292faf9242e845",
   "metadata": {
    "ExecuteTime": {
     "end_time": "2023-12-03T10:34:08.894589Z",
     "start_time": "2023-12-03T10:34:08.879154Z"
    },
    "collapsed": false
   },
   "outputs": [],
   "source": [
    "# main code \n",
    "racetrack = Racetrack(racetrack_map, 0)"
   ]
  },
  {
   "cell_type": "code",
   "execution_count": null,
   "id": "87df7e6d5c15ec7b",
   "metadata": {
    "collapsed": false
   },
   "outputs": [],
   "source": [
    "# run the car\n",
    "for i in range(1000):\n",
    "    racetrack.run_mont_carlo(0.1, 0.99)\n",
    "    if i % 100 == 0:\n",
    "        print(i)"
   ]
  },
  {
   "cell_type": "code",
   "execution_count": 17,
   "id": "465900c03ad8945",
   "metadata": {
    "ExecuteTime": {
     "end_time": "2023-12-03T11:26:09.382470Z",
     "start_time": "2023-12-03T11:26:09.313941Z"
    },
    "collapsed": false
   },
   "outputs": [],
   "source": [
    "# run racetrack use trained data\n",
    "def racetrack_run(racetrack_map, policy, Q, start_num):\n",
    "    racetrack = Racetrack(racetrack_map, start_num)\n",
    "    racetrack.epsilon = 0\n",
    "    racetrack.policy = policy\n",
    "    racetrack.Q = Q\n",
    "    racetrack.run_mont_carlo(0.1, 0.99, False)\n",
    "\n",
    "Q = np.load('Q.npy')\n",
    "policy = np.load('policy.npy')\n"
   ]
  },
  {
   "cell_type": "code",
   "execution_count": 29,
   "id": "b8a7056ad095f9bd",
   "metadata": {
    "ExecuteTime": {
     "start_time": "2023-12-03T14:39:42.158026Z"
    },
    "collapsed": false
   },
   "outputs": [],
   "source": [
    "for i in range(len(np.argwhere(racetrack_map == 2))):\n",
    "    racetrack_run(racetrack_map, policy, Q, i)"
   ]
  }
 ],
 "metadata": {
  "kernelspec": {
   "display_name": "Python 3",
   "language": "python",
   "name": "python3"
  },
  "language_info": {
   "codemirror_mode": {
    "name": "ipython",
    "version": 3
   },
   "file_extension": ".py",
   "mimetype": "text/x-python",
   "name": "python",
   "nbconvert_exporter": "python",
   "pygments_lexer": "ipython3",
   "version": "3.11.3"
  }
 },
 "nbformat": 4,
 "nbformat_minor": 5
}
